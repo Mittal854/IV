{
 "cells": [
  {
   "cell_type": "markdown",
   "id": "1b5e5927-ae2b-4c97-95f7-242f12ff2c7c",
   "metadata": {},
   "source": [
    "# Pandas\n",
    "Pandas provide a huge trange of functions for cleaning and pre processing data that allow user to handle missing data, filter out unnecessary information and transform data into a usable format.\n",
    "\n",
    "Data manipulation -- \n",
    "We can perform various performance on data seets such as merging, grouping and reshaping with the help of that we can transform data into desired format for analysis.\n",
    "\n",
    "Intergration with other libraries --\n",
    "We can intregrate with other python library used in data science ecosystem such as numpy.\n",
    "\n",
    "*Data input/output --\n",
    "It support reading and writing data in various format including csv, excel , sql database and more.\n",
    "\n",
    "Flexibility --\n",
    "It is highly flexible and it allow to perform complex operations and analysis.\n",
    "\n",
    "*Data frame and series --\n",
    "A data frame is 2d table with row and column similar to spreadsheet or as sql table.\n",
    "Series is 1d array that can hold any data types..."
   ]
  },
  {
   "cell_type": "code",
   "execution_count": 1,
   "id": "73f52604-3b21-4c57-9951-92eb6f509169",
   "metadata": {},
   "outputs": [],
   "source": [
    "import numpy as np\n",
    "import pandas as pd"
   ]
  },
  {
   "cell_type": "code",
   "execution_count": 2,
   "id": "ccea5606-7c5b-4135-8d02-8a47a71bc1c8",
   "metadata": {},
   "outputs": [],
   "source": [
    "labels=['a','b','c']\n",
    "my_list=[10,20,30]\n",
    "arr=np.array([10,20,30])\n",
    "d={'a':10,'b':20,'c':30}\n"
   ]
  },
  {
   "cell_type": "code",
   "execution_count": 3,
   "id": "b8a8ce62-aadd-4c21-b784-3ae808fefec2",
   "metadata": {},
   "outputs": [
    {
     "data": {
      "text/plain": [
       "a    10\n",
       "b    20\n",
       "c    30\n",
       "dtype: int64"
      ]
     },
     "execution_count": 3,
     "metadata": {},
     "output_type": "execute_result"
    }
   ],
   "source": [
    "pd.Series(data=my_list,index=labels)"
   ]
  },
  {
   "cell_type": "code",
   "execution_count": 5,
   "id": "cd336eb2-0e6c-4bea-866d-a7019a832d75",
   "metadata": {},
   "outputs": [
    {
     "data": {
      "text/plain": [
       "a    10\n",
       "b    20\n",
       "c    30\n",
       "dtype: int64"
      ]
     },
     "execution_count": 5,
     "metadata": {},
     "output_type": "execute_result"
    }
   ],
   "source": [
    "pd.Series(my_list,labels)"
   ]
  },
  {
   "cell_type": "code",
   "execution_count": 6,
   "id": "98bb682c-0c71-4cba-9f07-d1c4e003bf56",
   "metadata": {},
   "outputs": [
    {
     "data": {
      "text/plain": [
       "0    10\n",
       "1    20\n",
       "2    30\n",
       "dtype: int32"
      ]
     },
     "execution_count": 6,
     "metadata": {},
     "output_type": "execute_result"
    }
   ],
   "source": [
    "pd.Series(arr)"
   ]
  },
  {
   "cell_type": "code",
   "execution_count": 8,
   "id": "65815720-4e63-4be4-b1fc-8a6939c7c58f",
   "metadata": {},
   "outputs": [
    {
     "data": {
      "text/plain": [
       "a    10\n",
       "b    20\n",
       "c    30\n",
       "dtype: int32"
      ]
     },
     "execution_count": 8,
     "metadata": {},
     "output_type": "execute_result"
    }
   ],
   "source": [
    "pd.Series(arr,labels)"
   ]
  },
  {
   "cell_type": "code",
   "execution_count": 9,
   "id": "041abeb0-3a57-4433-8e63-d0a15588fc9b",
   "metadata": {},
   "outputs": [],
   "source": [
    "ser1=pd.Series(data=['USA','Germany','USSR','Japan'],index=[1,2,3,4])"
   ]
  },
  {
   "cell_type": "code",
   "execution_count": 10,
   "id": "9b97c59b-6505-42a5-84a1-9e7aeadb1d6c",
   "metadata": {},
   "outputs": [
    {
     "data": {
      "text/plain": [
       "1        USA\n",
       "2    Germany\n",
       "3       USSR\n",
       "4      Japan\n",
       "dtype: object"
      ]
     },
     "execution_count": 10,
     "metadata": {},
     "output_type": "execute_result"
    }
   ],
   "source": [
    "ser1"
   ]
  },
  {
   "cell_type": "code",
   "execution_count": 16,
   "id": "3b0d8066-75dc-41f0-a781-905008a55d17",
   "metadata": {},
   "outputs": [],
   "source": [
    "ser1=pd.Series([1,2,3,4],index=['USA','Germany','USSR','Japan'])"
   ]
  },
  {
   "cell_type": "code",
   "execution_count": 17,
   "id": "1a9cda37-a052-4f16-90a2-583d9306d1a2",
   "metadata": {},
   "outputs": [
    {
     "data": {
      "text/plain": [
       "USA        1\n",
       "Germany    2\n",
       "USSR       3\n",
       "Japan      4\n",
       "dtype: int64"
      ]
     },
     "execution_count": 17,
     "metadata": {},
     "output_type": "execute_result"
    }
   ],
   "source": [
    "ser1"
   ]
  },
  {
   "cell_type": "code",
   "execution_count": 18,
   "id": "3306ad5f-d267-42b6-bbfa-4d81b5cb91e8",
   "metadata": {},
   "outputs": [],
   "source": [
    "ser2=pd.Series(data=[1,2,5,4],index=['USA','Germany','Italy','Japan'])"
   ]
  },
  {
   "cell_type": "code",
   "execution_count": 19,
   "id": "3465cf72-a9c7-4da9-b6b0-5013390024e5",
   "metadata": {},
   "outputs": [
    {
     "data": {
      "text/plain": [
       "USA        1\n",
       "Germany    2\n",
       "Italy      5\n",
       "Japan      4\n",
       "dtype: int64"
      ]
     },
     "execution_count": 19,
     "metadata": {},
     "output_type": "execute_result"
    }
   ],
   "source": [
    "ser2"
   ]
  },
  {
   "cell_type": "code",
   "execution_count": 20,
   "id": "8c90838d-53f0-40e4-ada9-74da389fb734",
   "metadata": {},
   "outputs": [
    {
     "data": {
      "text/plain": [
       "Germany    4.0\n",
       "Italy      NaN\n",
       "Japan      8.0\n",
       "USA        2.0\n",
       "USSR       NaN\n",
       "dtype: float64"
      ]
     },
     "execution_count": 20,
     "metadata": {},
     "output_type": "execute_result"
    }
   ],
   "source": [
    "ser1+ser2"
   ]
  }
 ],
 "metadata": {
  "kernelspec": {
   "display_name": "Python 3 (ipykernel)",
   "language": "python",
   "name": "python3"
  },
  "language_info": {
   "codemirror_mode": {
    "name": "ipython",
    "version": 3
   },
   "file_extension": ".py",
   "mimetype": "text/x-python",
   "name": "python",
   "nbconvert_exporter": "python",
   "pygments_lexer": "ipython3",
   "version": "3.12.1"
  }
 },
 "nbformat": 4,
 "nbformat_minor": 5
}
