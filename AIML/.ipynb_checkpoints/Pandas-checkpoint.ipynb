{
 "cells": [
  {
   "cell_type": "markdown",
   "id": "1b5e5927-ae2b-4c97-95f7-242f12ff2c7c",
   "metadata": {},
   "source": [
    "# Pandas\n",
    "Pandas provide a huge trange of functions for cleaning and pre processing data that allow user to handle missing data, filter out unnecessary information and transform data into a usable format.\n",
    "\n",
    "Data manipulation -- \n",
    "We can perform various performance on data seets such as merging, grouping and reshaping with the help of that we can transform data into desired format for analysis.\n",
    "\n",
    "Intergration with other libraries --\n",
    "We can intregrate with other python library used in data science ecosystem such as numpy.\n",
    "\n",
    "*Data input/output --\n",
    "It support reading and writing data in various format including csv, excel , sql database and more.\n",
    "\n",
    "Flexibility --\n",
    "It is highly flexible and it allow to perform complex operations and analysis.\n",
    "\n",
    "*Data frame and series --\n",
    "A data frame is 2d table with row and column similar to spreadsheet or as sql table.\n",
    "Series is 1d array that can hold any data types..."
   ]
  },
  {
   "cell_type": "code",
   "execution_count": 3,
   "id": "73f52604-3b21-4c57-9951-92eb6f509169",
   "metadata": {},
   "outputs": [],
   "source": [
    "import pandas as pd"
   ]
  },
  {
   "cell_type": "code",
   "execution_count": null,
   "id": "ccea5606-7c5b-4135-8d02-8a47a71bc1c8",
   "metadata": {},
   "outputs": [],
   "source": []
  }
 ],
 "metadata": {
  "kernelspec": {
   "display_name": "Python 3 (ipykernel)",
   "language": "python",
   "name": "python3"
  },
  "language_info": {
   "codemirror_mode": {
    "name": "ipython",
    "version": 3
   },
   "file_extension": ".py",
   "mimetype": "text/x-python",
   "name": "python",
   "nbconvert_exporter": "python",
   "pygments_lexer": "ipython3",
   "version": "3.12.1"
  }
 },
 "nbformat": 4,
 "nbformat_minor": 5
}
