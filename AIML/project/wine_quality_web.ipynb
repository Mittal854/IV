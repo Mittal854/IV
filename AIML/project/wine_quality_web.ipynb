{
 "cells": [
  {
   "cell_type": "code",
   "execution_count": 20,
   "metadata": {},
   "outputs": [],
   "source": [
    "from flask import Flask\n",
    "from flask import request\n",
    "from flask import render_template\n",
    "import joblib\n",
    "import pickle"
   ]
  },
  {
   "cell_type": "code",
   "execution_count": 21,
   "metadata": {},
   "outputs": [],
   "source": [
    "app=Flask(__name__)\n",
    "m=joblib.load('wine_quality_model')\n",
    "@app.route('/')\n",
    "def hello(name=None):\n",
    "    return render_template('wine.html',name=name)\n",
    "@app.route('/results',methods=['GET','POST'])\n",
    "def get_value():\n",
    "    if request.method=='POST':\n",
    "        fa=float(request.form.get('fixed-acidity'))\n",
    "        va=float(request.form.get('volatile-acidity'))\n",
    "        ca=float(request.form.get('citric-acid'))\n",
    "        rs=float(request.form.get('residual-sugar'))\n",
    "        c=float(request.form.get('chloride'))\n",
    "        fsd=float(request.form.get('free-sulfur-dioxide'))\n",
    "        tsd=float(request.form.get('total-sulfur-dioxide'))\n",
    "        d=float(request.form.get('density'))\n",
    "        ph=float(request.form.get('ph'))\n",
    "        s=float(request.form.get('sulfates'))\n",
    "        a=float(request.form.get('alcohol'))\n",
    "        predict=m.predict([[fa,va,ca,rs,c,fsd,tsd,d,ph,s,a]])\n",
    "    return render_template('results.html',prediction=predict);"
   ]
  },
  {
   "cell_type": "code",
   "execution_count": 22,
   "metadata": {},
   "outputs": [
    {
     "name": "stdout",
     "output_type": "stream",
     "text": [
      " * Serving Flask app '__main__'\n",
      " * Debug mode: off\n"
     ]
    },
    {
     "name": "stderr",
     "output_type": "stream",
     "text": [
      "WARNING: This is a development server. Do not use it in a production deployment. Use a production WSGI server instead.\n",
      " * Running on http://127.0.0.1:5000\n",
      "Press CTRL+C to quit\n",
      "127.0.0.1 - - [13/May/2024 20:27:35] \"GET / HTTP/1.1\" 200 -\n",
      "127.0.0.1 - - [13/May/2024 20:27:36] \"GET /grape-cask-wineglass-isolated-white-background_219958-866.avif HTTP/1.1\" 404 -\n",
      "[2024-05-13 20:27:59,751] ERROR in app: Exception on /results [POST]\n",
      "Traceback (most recent call last):\n",
      "  File \"c:\\Users\\bhuve\\AppData\\Local\\Programs\\Python\\Python312\\Lib\\site-packages\\flask\\app.py\", line 1463, in wsgi_app\n",
      "    response = self.full_dispatch_request()\n",
      "               ^^^^^^^^^^^^^^^^^^^^^^^^^^^^\n",
      "  File \"c:\\Users\\bhuve\\AppData\\Local\\Programs\\Python\\Python312\\Lib\\site-packages\\flask\\app.py\", line 872, in full_dispatch_request\n",
      "    rv = self.handle_user_exception(e)\n",
      "         ^^^^^^^^^^^^^^^^^^^^^^^^^^^^^\n",
      "  File \"c:\\Users\\bhuve\\AppData\\Local\\Programs\\Python\\Python312\\Lib\\site-packages\\flask\\app.py\", line 870, in full_dispatch_request\n",
      "    rv = self.dispatch_request()\n",
      "         ^^^^^^^^^^^^^^^^^^^^^^^\n",
      "  File \"c:\\Users\\bhuve\\AppData\\Local\\Programs\\Python\\Python312\\Lib\\site-packages\\flask\\app.py\", line 855, in dispatch_request\n",
      "    return self.ensure_sync(self.view_functions[rule.endpoint])(**view_args)  # type: ignore[no-any-return]\n",
      "           ^^^^^^^^^^^^^^^^^^^^^^^^^^^^^^^^^^^^^^^^^^^^^^^^^^^^^^^^^^^^^^^^^\n",
      "  File \"C:\\Users\\bhuve\\AppData\\Local\\Temp\\ipykernel_18312\\1303846004.py\", line 13, in get_value\n",
      "    c=float(request.form.get('chloride'))\n",
      "      ^^^^^^^^^^^^^^^^^^^^^^^^^^^^^^^^^^^\n",
      "TypeError: float() argument must be a string or a real number, not 'NoneType'\n",
      "127.0.0.1 - - [13/May/2024 20:27:59] \"POST /results HTTP/1.1\" 500 -\n"
     ]
    }
   ],
   "source": [
    "if __name__=='__main__':\n",
    "    app.run()"
   ]
  },
  {
   "cell_type": "code",
   "execution_count": null,
   "metadata": {},
   "outputs": [],
   "source": []
  }
 ],
 "metadata": {
  "kernelspec": {
   "display_name": "Python 3 (ipykernel)",
   "language": "python",
   "name": "python3"
  },
  "language_info": {
   "codemirror_mode": {
    "name": "ipython",
    "version": 3
   },
   "file_extension": ".py",
   "mimetype": "text/x-python",
   "name": "python",
   "nbconvert_exporter": "python",
   "pygments_lexer": "ipython3",
   "version": "3.12.1"
  }
 },
 "nbformat": 4,
 "nbformat_minor": 4
}
